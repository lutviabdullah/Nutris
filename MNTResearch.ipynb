{
  "nbformat": 4,
  "nbformat_minor": 0,
  "metadata": {
    "colab": {
      "provenance": [],
      "authorship_tag": "ABX9TyMYZ0x4wwHuumelRfE0DuPR",
      "include_colab_link": true
    },
    "kernelspec": {
      "name": "python3",
      "display_name": "Python 3"
    },
    "language_info": {
      "name": "python"
    }
  },
  "cells": [
    {
      "cell_type": "markdown",
      "metadata": {
        "id": "view-in-github",
        "colab_type": "text"
      },
      "source": [
        "<a href=\"https://colab.research.google.com/github/lutviabdullah/Nutris/blob/main/MNTResearch.ipynb\" target=\"_parent\"><img src=\"https://colab.research.google.com/assets/colab-badge.svg\" alt=\"Open In Colab\"/></a>"
      ]
    },
    {
      "cell_type": "code",
      "source": [
        "import pandas as pd\n",
        "\n",
        "# Nutrient data per 100g raw meat (USDA/FAO)\n",
        "data = {\n",
        "    \"Meat\": [\"Fish (Mackerel)\", \"Chicken Liver\", \"Chicken\", \"Pork\", \"Beef\", \"Insects (Crickets)\"],\n",
        "    \"Protein (g)\": [19, 17, 18, 17, 17, 21],\n",
        "    \"Iron (mg)\": [1.6, 9.0, 1.0, 1.2, 2.5, 3.5],\n",
        "    \"Zinc (mg)\": [0.5, 2.7, 1.5, 2.0, 4.5, 4.0],\n",
        "    \"Vitamin A (μg)\": [50, 3300, 40, 0, 0, 0],\n",
        "    \"Vitamin B12 (μg)\": [9, 17, 0.3, 0.6, 2.4, 5],\n",
        "    \"Cost (USD/kg)\": [3.0, 2.0, 3.5, 4.0, 8.0, 5.0],  # Market prices in SEA\n",
        "    \"Sustainability\": [\"High\", \"Medium\", \"Medium\", \"Medium\", \"Low\", \"High\"]\n",
        "}\n",
        "\n",
        "# Create DataFrame\n",
        "df = pd.DataFrame(data)\n",
        "\n",
        "# Calculate nutrient density score (weighted for key deficiencies)\n",
        "weights = {\n",
        "    'Protein (g)': 0.25,\n",
        "    'Iron (mg)': 0.25,\n",
        "    'Zinc (mg)': 0.20,\n",
        "    'Vitamin A (μg)': 0.15,\n",
        "    'Vitamin B12 (μg)': 0.15\n",
        "}\n",
        "\n",
        "for nutrient, weight in weights.items():\n",
        "    df[f\"{nutrient} Score\"] = (df[nutrient] / df[nutrient].max()) * weight * 100\n",
        "\n",
        "df['Total Nutrient Score'] = df[[col for col in df.columns if 'Score' in col]].sum(axis=1)\n",
        "\n",
        "# Sort by highest nutrient density\n",
        "df_sorted = df.sort_values('Total Nutrient Score', ascending=False)\n",
        "\n",
        "print(df_sorted[['Meat', 'Total Nutrient Score', 'Cost (USD/kg)', 'Sustainability']])"
      ],
      "metadata": {
        "colab": {
          "base_uri": "https://localhost:8080/"
        },
        "id": "T8wbbN8yDiyP",
        "outputId": "d288986e-f61d-49cf-ccf0-7c9b00227435"
      },
      "execution_count": 1,
      "outputs": [
        {
          "output_type": "stream",
          "name": "stdout",
          "text": [
            "                 Meat  Total Nutrient Score  Cost (USD/kg) Sustainability\n",
            "1       Chicken Liver             87.238095            2.0         Medium\n",
            "5  Insects (Crickets)             56.911765            5.0           High\n",
            "4                Beef             49.300187            8.0            Low\n",
            "0     Fish (Mackerel)             37.454163            3.0           High\n",
            "3                Pork             32.989729            4.0         Medium\n",
            "2             Chicken             31.319540            3.5         Medium\n"
          ]
        }
      ]
    }
  ]
}